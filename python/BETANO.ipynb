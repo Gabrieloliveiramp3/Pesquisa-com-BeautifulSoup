{
  "nbformat": 4,
  "nbformat_minor": 0,
  "metadata": {
    "colab": {
      "name": "BETANO.ipynb",
      "provenance": [],
      "collapsed_sections": []
    },
    "kernelspec": {
      "name": "python3",
      "display_name": "Python 3"
    },
    "language_info": {
      "name": "python"
    }
  },
  "cells": [
    {
      "cell_type": "code",
      "source": [
        "from google.colab import auth\n",
        "auth.authenticate_user()\n",
        "\n",
        "import gspread\n",
        "from google.auth import default\n",
        "creds, _ = default()\n",
        "\n",
        "gc = gspread.authorize(creds)"
      ],
      "metadata": {
        "id": "w5F_zOzv-rSD"
      },
      "execution_count": null,
      "outputs": []
    },
    {
      "cell_type": "code",
      "source": [
        "plan = gc.open('Betfair')"
      ],
      "metadata": {
        "id": "5bLjx60Nld-M"
      },
      "execution_count": null,
      "outputs": []
    },
    {
      "cell_type": "code",
      "source": [
        "page = plan.sheet1"
      ],
      "metadata": {
        "id": "Bo9QBohGl1tc"
      },
      "execution_count": null,
      "outputs": []
    },
    {
      "cell_type": "code",
      "source": [
        "rows = page.get_all_values()\n",
        "print(rows)\n"
      ],
      "metadata": {
        "id": "35rBIYpr_IdL"
      },
      "execution_count": null,
      "outputs": []
    },
    {
      "cell_type": "code",
      "source": [
        "import pandas as pd\n",
        "pd.DataFrame.from_records(rows)"
      ],
      "metadata": {
        "id": "BQ2AXnPmDEdL"
      },
      "execution_count": null,
      "outputs": []
    },
    {
      "cell_type": "code",
      "source": [
        "from bs4 import BeautifulSoup\n",
        "import re"
      ],
      "metadata": {
        "id": "nm4F1zwhcbq0"
      },
      "execution_count": null,
      "outputs": []
    },
    {
      "cell_type": "code",
      "source": [
        "import requests\n",
        "url = (\"https://www.betfair.com/sport/virtuals-results?sport=SOCCER&day=2022-01-31\")\n",
        "r = requests.get(url)"
      ],
      "metadata": {
        "id": "4p54kiIzcd-H"
      },
      "execution_count": null,
      "outputs": []
    },
    {
      "cell_type": "code",
      "source": [
        "bs = BeautifulSoup(r.text, 'html.parser')"
      ],
      "metadata": {
        "id": "1-VnneTxtLpz"
      },
      "execution_count": null,
      "outputs": []
    },
    {
      "cell_type": "code",
      "source": [
        "times = bs.find_all('div')"
      ],
      "metadata": {
        "id": "CXU1thkUc16t"
      },
      "execution_count": null,
      "outputs": []
    },
    {
      "cell_type": "code",
      "source": [
        "for i in times:\n",
        "    print(i.text)"
      ],
      "metadata": {
        "id": "aVjxOb7Kvyv5"
      },
      "execution_count": null,
      "outputs": []
    },
    {
      "cell_type": "code",
      "source": [
        ""
      ],
      "metadata": {
        "id": "1JJzZeSoTNlI"
      },
      "execution_count": null,
      "outputs": []
    },
    {
      "cell_type": "code",
      "source": [
        "import datetime\n",
        "\n",
        "hoje = datetime.datetime.now()\n",
        "hoje = str(hoje)\n",
        "conteudo = [url, times, hoje ]\n",
        "\n",
        "registros = worksheet.range('A2:D2')\n",
        "\n",
        "for i in range(0, len(registros)):\n",
        " registros[i].value = conteudo[i]\n",
        "\n",
        "worksheet.update_cells(registros)"
      ],
      "metadata": {
        "id": "8TnYbyVMDiZf"
      },
      "execution_count": null,
      "outputs": []
    }
  ]
}